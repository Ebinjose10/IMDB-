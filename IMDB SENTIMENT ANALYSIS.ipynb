{
 "cells": [
  {
   "cell_type": "code",
   "execution_count": 4,
   "id": "enhanced-breach",
   "metadata": {},
   "outputs": [
    {
     "name": "stderr",
     "output_type": "stream",
     "text": [
      "[nltk_data] Downloading package stopwords to\n",
      "[nltk_data]     /home/ebinjosemathew/nltk_data...\n",
      "[nltk_data]   Package stopwords is already up-to-date!\n"
     ]
    }
   ],
   "source": [
    "import re\n",
    "import string\n",
    "import nltk\n",
    "from nltk.tokenize import RegexpTokenizer\n",
    "from nltk.corpus import stopwords\n",
    "from string import punctuation \n",
    "from nltk.tokenize import word_tokenize\n",
    "nltk.download('stopwords')\n",
    "import pandas as pd\n",
    "from nltk.stem import PorterStemmer\n",
    "import numpy as np\n",
    "from tqdm import tqdm\n",
    "tqdm.pandas(desc=\"progress-bar\")\n",
    "from sklearn.model_selection import train_test_split\n",
    "import gensim\n",
    "from gensim.models.word2vec import Word2Vec \n",
    "LabeledSentence = gensim.models.doc2vec.LabeledSentence\n",
    "from sklearn.preprocessing import scale\n",
    "from sklearn.metrics import f1_score\n",
    "from sklearn.metrics import average_precision_score\n",
    "from sklearn.metrics import recall_score\n",
    "import pickle\n",
    "import matplotlib.pyplot as plt\n",
    "import seaborn as sns\n",
    "from time import time"
   ]
  },
  {
   "cell_type": "code",
   "execution_count": 5,
   "id": "surprised-indian",
   "metadata": {},
   "outputs": [],
   "source": [
    "df=pd.read_csv(\"IMDB Dataset.csv\")#IMDB Dataset.csv\n",
    "df = df[df['sentiment'].isnull() == False]"
   ]
  },
  {
   "cell_type": "markdown",
   "id": "cooked-enforcement",
   "metadata": {},
   "source": [
    "BASIC EXPLORATORY DATA ANALYSIS"
   ]
  },
  {
   "cell_type": "code",
   "execution_count": 6,
   "id": "freelance-attention",
   "metadata": {},
   "outputs": [
    {
     "data": {
      "text/html": [
       "<div>\n",
       "<style scoped>\n",
       "    .dataframe tbody tr th:only-of-type {\n",
       "        vertical-align: middle;\n",
       "    }\n",
       "\n",
       "    .dataframe tbody tr th {\n",
       "        vertical-align: top;\n",
       "    }\n",
       "\n",
       "    .dataframe thead th {\n",
       "        text-align: right;\n",
       "    }\n",
       "</style>\n",
       "<table border=\"1\" class=\"dataframe\">\n",
       "  <thead>\n",
       "    <tr style=\"text-align: right;\">\n",
       "      <th></th>\n",
       "      <th>review</th>\n",
       "      <th>sentiment</th>\n",
       "    </tr>\n",
       "  </thead>\n",
       "  <tbody>\n",
       "    <tr>\n",
       "      <th>0</th>\n",
       "      <td>One of the other reviewers has mentioned that ...</td>\n",
       "      <td>positive</td>\n",
       "    </tr>\n",
       "    <tr>\n",
       "      <th>1</th>\n",
       "      <td>A wonderful little production. &lt;br /&gt;&lt;br /&gt;The...</td>\n",
       "      <td>positive</td>\n",
       "    </tr>\n",
       "    <tr>\n",
       "      <th>2</th>\n",
       "      <td>I thought this was a wonderful way to spend ti...</td>\n",
       "      <td>positive</td>\n",
       "    </tr>\n",
       "    <tr>\n",
       "      <th>3</th>\n",
       "      <td>Basically there's a family where a little boy ...</td>\n",
       "      <td>negative</td>\n",
       "    </tr>\n",
       "    <tr>\n",
       "      <th>4</th>\n",
       "      <td>Petter Mattei's \"Love in the Time of Money\" is...</td>\n",
       "      <td>positive</td>\n",
       "    </tr>\n",
       "  </tbody>\n",
       "</table>\n",
       "</div>"
      ],
      "text/plain": [
       "                                              review sentiment\n",
       "0  One of the other reviewers has mentioned that ...  positive\n",
       "1  A wonderful little production. <br /><br />The...  positive\n",
       "2  I thought this was a wonderful way to spend ti...  positive\n",
       "3  Basically there's a family where a little boy ...  negative\n",
       "4  Petter Mattei's \"Love in the Time of Money\" is...  positive"
      ]
     },
     "execution_count": 6,
     "metadata": {},
     "output_type": "execute_result"
    }
   ],
   "source": [
    "df.head()"
   ]
  },
  {
   "cell_type": "code",
   "execution_count": 7,
   "id": "attractive-forge",
   "metadata": {},
   "outputs": [
    {
     "data": {
      "text/plain": [
       "(50000, 2)"
      ]
     },
     "execution_count": 7,
     "metadata": {},
     "output_type": "execute_result"
    }
   ],
   "source": [
    "df.shape"
   ]
  },
  {
   "cell_type": "code",
   "execution_count": 8,
   "id": "perfect-columbus",
   "metadata": {},
   "outputs": [
    {
     "data": {
      "text/plain": [
       "negative    25000\n",
       "positive    25000\n",
       "Name: sentiment, dtype: int64"
      ]
     },
     "execution_count": 8,
     "metadata": {},
     "output_type": "execute_result"
    }
   ],
   "source": [
    "#checking data is balanced or not\n",
    "df.sentiment.value_counts()"
   ]
  },
  {
   "cell_type": "markdown",
   "id": "fancy-thanksgiving",
   "metadata": {},
   "source": [
    "ANALYSIS OF TEXT STASTICS"
   ]
  },
  {
   "cell_type": "code",
   "execution_count": 6,
   "id": "ongoing-ridge",
   "metadata": {},
   "outputs": [
    {
     "data": {
      "text/plain": [
       "<AxesSubplot:>"
      ]
     },
     "execution_count": 6,
     "metadata": {},
     "output_type": "execute_result"
    },
    {
     "data": {
      "image/png": "[encoded data removed]",
      "text/plain": [
       "<Figure size 432x288 with 1 Axes>"
      ]
     },
     "metadata": {
      "needs_background": "light"
     },
     "output_type": "display_data"
    }
   ],
   "source": [
    "#length of reviews\n",
    "df[\"review\"].str.len().hist()\n",
    "#most reviews are 0 to 2000 characters long but some range from 0 to 7000 characters "
   ]
  },
  {
   "cell_type": "code",
   "execution_count": 10,
   "id": "earlier-bradley",
   "metadata": {},
   "outputs": [
    {
     "name": "stdout",
     "output_type": "stream",
     "text": [
      "1.4511308670043945\n"
     ]
    },
    {
     "data": {
      "image/png": "[encoded data removed]",
      "text/plain": [
       "<Figure size 432x288 with 1 Axes>"
      ]
     },
     "metadata": {
      "needs_background": "light"
     },
     "output_type": "display_data"
    }
   ],
   "source": [
    "start_time = time()\n",
    "df[\"review\"].str.split().map(lambda x: len(x)).hist();\n",
    "print(time() - start_time)\n",
    "\n",
    "#most headlines have 0 to 200 words "
   ]
  },
  {
   "cell_type": "code",
   "execution_count": 11,
   "id": "martial-plate",
   "metadata": {},
   "outputs": [
    {
     "data": {
      "text/plain": [
       "<AxesSubplot:>"
      ]
     },
     "execution_count": 11,
     "metadata": {},
     "output_type": "execute_result"
    },
    {
     "data": {
      "image/png": "[encoded data removed]",
      "text/plain": [
       "<Figure size 432x288 with 1 Axes>"
      ]
     },
     "metadata": {
      "needs_background": "light"
     },
     "output_type": "display_data"
    }
   ],
   "source": [
    "df['review'].str.split().apply(lambda x : [len(i) for i in x]).map(lambda x: np.mean(x)).hist()\n",
    "#this shows average word length "
   ]
  },
  {
   "cell_type": "code",
   "execution_count": 7,
   "id": "dangerous-smart",
   "metadata": {},
   "outputs": [
    {
     "data": {
      "text/plain": [
       "<BarContainer object of 10 artists>"
      ]
     },
     "execution_count": 7,
     "metadata": {},
     "output_type": "execute_result"
    },
    {
     "data": {
      "image/png": "[encoded data removed]",
      "text/plain": [
       "<Figure size 432x288 with 1 Axes>"
      ]
     },
     "metadata": {
      "needs_background": "light"
     },
     "output_type": "display_data"
    }
   ],
   "source": [
    "#plotting top stop words\n",
    "stop_words = set(stopwords.words('english'))          \n",
    "corpus=[]\n",
    "df_cor= df['review'].str.split()\n",
    "df_cor=df_cor.values.tolist()\n",
    "corpus=[word for i in df_cor for word in i]\n",
    "\n",
    "from collections import defaultdict\n",
    "dic=defaultdict(int)\n",
    "for word in corpus:\n",
    "    if word in stop_words:\n",
    "        dic[word]+=1\n",
    "        \n",
    "     \n",
    "SW=sorted(dic.items(), key=lambda x:x[1],reverse=True)[:10] \n",
    "x,y=zip(*SW)\n",
    "plt.bar(x,y)"
   ]
  },
  {
   "cell_type": "code",
   "execution_count": 13,
   "id": "comparable-jason",
   "metadata": {},
   "outputs": [
    {
     "data": {
      "text/plain": [
       "[('the', 568735),\n",
       " ('a', 306960),\n",
       " ('and', 301919),\n",
       " ('of', 283625),\n",
       " ('to', 261850),\n",
       " ('is', 203056),\n",
       " ('in', 169981),\n",
       " ('I', 132498),\n",
       " ('that', 126818),\n",
       " ('this', 113726),\n",
       " ('it', 107916),\n",
       " ('/><br', 100974),\n",
       " ('was', 92658),\n",
       " ('as', 83130),\n",
       " ('with', 82569),\n",
       " ('for', 80919),\n",
       " ('The', 67317),\n",
       " ('but', 66282),\n",
       " ('on', 61197),\n",
       " ('movie', 60762),\n",
       " ('are', 56513),\n",
       " ('film', 54277),\n",
       " ('his', 54198),\n",
       " ('have', 54009),\n",
       " ('not', 52140),\n",
       " ('you', 50697),\n",
       " ('be', 50539),\n",
       " ('at', 42421),\n",
       " ('by', 42290),\n",
       " ('he', 42114),\n",
       " ('one', 41334),\n",
       " ('an', 41076),\n",
       " ('from', 37876),\n",
       " ('who', 37207),\n",
       " ('like', 36028),\n",
       " ('all', 35272),\n",
       " ('they', 35201),\n",
       " ('has', 32420),\n",
       " ('so', 32386),\n",
       " ('just', 32338),\n",
       " ('or', 32221),\n",
       " ('about', 32036),\n",
       " ('her', 29944),\n",
       " ('out', 28679),\n",
       " ('some', 28052),\n",
       " ('very', 25794),\n",
       " ('more', 25412),\n",
       " ('This', 24329),\n",
       " ('would', 23578),\n",
       " ('what', 23320),\n",
       " ('when', 22749),\n",
       " ('good', 22582),\n",
       " ('if', 22009),\n",
       " ('their', 21975),\n",
       " ('only', 21694),\n",
       " ('It', 21475),\n",
       " ('really', 21322),\n",
       " ('had', 21305),\n",
       " ('up', 21196),\n",
       " ('even', 20979),\n",
       " (\"it's\", 20949),\n",
       " ('can', 20863),\n",
       " ('which', 20703),\n",
       " ('were', 20552),\n",
       " ('see', 20364),\n",
       " ('my', 20356),\n",
       " ('no', 19951),\n",
       " ('than', 19043),\n",
       " ('she', 18980),\n",
       " ('-', 18201),\n",
       " ('there', 18160),\n",
       " ('been', 17883),\n",
       " ('into', 17515),\n",
       " ('get', 17333),\n",
       " ('will', 16938),\n",
       " ('much', 16827),\n",
       " ('story', 16443),\n",
       " ('because', 16371),\n",
       " ('other', 15745),\n",
       " ('most', 15508),\n",
       " ('time', 15312),\n",
       " ('we', 15191),\n",
       " ('me', 15173),\n",
       " ('make', 14859),\n",
       " ('do', 14775),\n",
       " ('how', 14754),\n",
       " ('could', 14689),\n",
       " ('also', 14607),\n",
       " ('people', 14414),\n",
       " ('its', 14385),\n",
       " ('great', 14385),\n",
       " ('/>The', 14335),\n",
       " ('first', 14283),\n",
       " ('any', 14199),\n",
       " (\"don't\", 13954),\n",
       " ('made', 13418),\n",
       " ('think', 13083),\n",
       " ('bad', 12847),\n",
       " ('him', 12506),\n",
       " ('being', 12290),\n",
       " ('many', 12175),\n",
       " ('<br', 12028),\n",
       " ('never', 11984),\n",
       " ('then', 11851),\n",
       " ('two', 11489),\n",
       " ('But', 11435),\n",
       " ('too', 11340),\n",
       " ('where', 11332),\n",
       " ('after', 11244),\n",
       " ('little', 11206),\n",
       " ('it.', 11116),\n",
       " ('way', 11089),\n",
       " ('And', 11060),\n",
       " ('them', 10903),\n",
       " ('your', 10902),\n",
       " ('well', 10789),\n",
       " ('watch', 10688),\n",
       " ('movie.', 10659),\n",
       " ('know', 10656),\n",
       " ('seen', 10554),\n",
       " ('did', 10451),\n",
       " ('characters', 10448),\n",
       " ('does', 10386),\n",
       " ('character', 10307),\n",
       " (\"It's\", 10224),\n",
       " ('movies', 10118),\n",
       " ('love', 10033),\n",
       " ('best', 9899),\n",
       " ('ever', 9897),\n",
       " ('A', 9655),\n",
       " ('In', 9482),\n",
       " ('films', 9406),\n",
       " ('still', 9405),\n",
       " ('over', 9393),\n",
       " ('plot', 9305),\n",
       " ('should', 9223),\n",
       " ('acting', 9182),\n",
       " ('such', 9134),\n",
       " ('these', 9127),\n",
       " ('show', 9095),\n",
       " ('i', 9089),\n",
       " ('off', 8958),\n",
       " ('He', 8894),\n",
       " ('film.', 8878),\n",
       " ('better', 8866),\n",
       " ('say', 8716),\n",
       " ('If', 8687),\n",
       " ('those', 8576),\n",
       " (\"doesn't\", 8529),\n",
       " ('something', 8459),\n",
       " ('through', 8440),\n",
       " ('go', 8322),\n",
       " (\"didn't\", 8281),\n",
       " ('scene', 8183),\n",
       " ('makes', 8144),\n",
       " ('film,', 8097),\n",
       " ('find', 7952),\n",
       " ('movie,', 7948),\n",
       " ('There', 7889),\n",
       " (\"I'm\", 7878),\n",
       " ('watching', 7757),\n",
       " ('real', 7716),\n",
       " ('scenes', 7713),\n",
       " ('back', 7644),\n",
       " ('actually', 7618),\n",
       " ('few', 7608),\n",
       " ('going', 7559),\n",
       " ('same', 7394),\n",
       " ('/>I', 7347),\n",
       " ('life', 7231),\n",
       " ('lot', 7229),\n",
       " ('look', 7111),\n",
       " ('&', 7063),\n",
       " ('while', 6985),\n",
       " ('thing', 6954),\n",
       " ('want', 6953),\n",
       " ('quite', 6933),\n",
       " ('every', 6926),\n",
       " ('seems', 6763),\n",
       " ('end', 6762),\n",
       " ('why', 6723),\n",
       " ('pretty', 6718),\n",
       " (\"can't\", 6699),\n",
       " ('man', 6670),\n",
       " ('old', 6640),\n",
       " ('got', 6630),\n",
       " ('nothing', 6608),\n",
       " ('actors', 6528),\n",
       " ('another', 6499),\n",
       " ('years', 6340),\n",
       " ('before', 6311),\n",
       " ('give', 6304),\n",
       " ('take', 6298),\n",
       " ('between', 6271),\n",
       " ('part', 6197),\n",
       " ('thought', 6151),\n",
       " ('may', 6083),\n",
       " ('it,', 6030),\n",
       " ('gets', 6023),\n",
       " ('around', 6021),\n",
       " (\"I've\", 5986),\n",
       " ('young', 5899),\n",
       " ('saw', 5895),\n",
       " ('things', 5894),\n",
       " (\"isn't\", 5851),\n",
       " ('without', 5825),\n",
       " ('must', 5785),\n",
       " ('almost', 5773),\n",
       " ('always', 5767),\n",
       " ('whole', 5763),\n",
       " ('own', 5743),\n",
       " ('work', 5660),\n",
       " ('down', 5628),\n",
       " ('both', 5585),\n",
       " ('might', 5581),\n",
       " ('They', 5580),\n",
       " ('cast', 5498),\n",
       " ('come', 5477),\n",
       " ('us', 5467),\n",
       " ('horror', 5384),\n",
       " ('bit', 5381),\n",
       " ('enough', 5376),\n",
       " ('am', 5353),\n",
       " ('least', 5345),\n",
       " ('big', 5338),\n",
       " ('though', 5327),\n",
       " ('new', 5325),\n",
       " ('director', 5310),\n",
       " ('feel', 5266),\n",
       " ('here', 5228),\n",
       " ('probably', 5117),\n",
       " ('As', 5063),\n",
       " ('funny', 5045),\n",
       " ('far', 5027),\n",
       " ('kind', 5010),\n",
       " ('fact', 4987),\n",
       " ('long', 4981),\n",
       " ('found', 4981),\n",
       " ('rather', 4903),\n",
       " ('\"The', 4871),\n",
       " ('original', 4865),\n",
       " ('last', 4852),\n",
       " (\"that's\", 4819),\n",
       " ('each', 4740),\n",
       " ('since', 4733),\n",
       " ('trying', 4704),\n",
       " ('anything', 4684),\n",
       " ('now', 4681),\n",
       " ('You', 4662),\n",
       " ('done', 4648),\n",
       " ('comes', 4628),\n",
       " ('interesting', 4617),\n",
       " ('What', 4600),\n",
       " ('making', 4581),\n",
       " ('action', 4565),\n",
       " ('our', 4532),\n",
       " ('worst', 4490),\n",
       " ('believe', 4482),\n",
       " ('put', 4470),\n",
       " ('main', 4463),\n",
       " ('right', 4460),\n",
       " ('played', 4458),\n",
       " ('guy', 4414),\n",
       " ('She', 4404),\n",
       " (\"he's\", 4396),\n",
       " ('point', 4383),\n",
       " ('/>This', 4369),\n",
       " ('music', 4357),\n",
       " ('goes', 4328),\n",
       " ('role', 4314),\n",
       " ('worth', 4283),\n",
       " ('looks', 4234),\n",
       " ('watched', 4218),\n",
       " (\"wasn't\", 4217),\n",
       " ('looking', 4209),\n",
       " ('having', 4194),\n",
       " ('plays', 4161),\n",
       " ('hard', 4149),\n",
       " ('seem', 4148),\n",
       " ('TV', 4147),\n",
       " ('When', 4131),\n",
       " ('anyone', 4129),\n",
       " ('minutes', 4127),\n",
       " ('series', 4121),\n",
       " ('takes', 4119),\n",
       " ('performance', 4106),\n",
       " ('script', 4081),\n",
       " ('world', 4056),\n",
       " ('shows', 4048),\n",
       " ('different', 4011),\n",
       " ('family', 3943),\n",
       " ('especially', 3943),\n",
       " ('away', 3889),\n",
       " ('during', 3852),\n",
       " ('comedy', 3851),\n",
       " ('someone', 3847),\n",
       " ('time.', 3839),\n",
       " ('sure', 3828),\n",
       " ('times', 3817),\n",
       " ('set', 3807),\n",
       " ('yet', 3790),\n",
       " ('three', 3752),\n",
       " ('woman', 3738),\n",
       " ('left', 3725),\n",
       " ('American', 3711),\n",
       " (\"there's\", 3674),\n",
       " ('fun', 3623),\n",
       " ('completely', 3578),\n",
       " ('girl', 3569),\n",
       " ('used', 3555),\n",
       " ('play', 3554),\n",
       " ('simply', 3547),\n",
       " ('John', 3536),\n",
       " ('seeing', 3532),\n",
       " (\"you're\", 3504),\n",
       " ('reason', 3468),\n",
       " ('One', 3460),\n",
       " ('For', 3450),\n",
       " ('special', 3432),\n",
       " ('Not', 3429),\n",
       " ('everything', 3387),\n",
       " ('--', 3358),\n",
       " ('need', 3353),\n",
       " ('again', 3350),\n",
       " ('true', 3349),\n",
       " ('use', 3346),\n",
       " ('idea', 3336),\n",
       " ('So', 3329),\n",
       " ('read', 3325),\n",
       " ('DVD', 3307),\n",
       " ('sense', 3296),\n",
       " ('recommend', 3252),\n",
       " ('until', 3249),\n",
       " ('truly', 3211),\n",
       " ('help', 3209),\n",
       " ('place', 3197),\n",
       " ('came', 3178),\n",
       " ('given', 3171),\n",
       " ('version', 3170),\n",
       " ('job', 3160),\n",
       " ('beautiful', 3159),\n",
       " ('ending', 3146),\n",
       " ('rest', 3144),\n",
       " ('getting', 3141),\n",
       " ('try', 3121),\n",
       " ('nice', 3113),\n",
       " ('We', 3093),\n",
       " ('once', 3093),\n",
       " ('couple', 3087),\n",
       " ('less', 3085),\n",
       " ('everyone', 3083),\n",
       " ('high', 3080),\n",
       " ('tell', 3060),\n",
       " ('money', 3050),\n",
       " ('effects', 3043),\n",
       " ('keep', 3042),\n",
       " ('shot', 3038),\n",
       " ('gives', 3035),\n",
       " ('half', 3017),\n",
       " ('said', 3016),\n",
       " ('That', 3007),\n",
       " ('All', 2992),\n",
       " ('enjoy', 2985),\n",
       " ('excellent', 2980),\n",
       " ('My', 2973),\n",
       " ('understand', 2964),\n",
       " ('audience', 2962),\n",
       " ('actor', 2957),\n",
       " ('fan', 2931),\n",
       " ('poor', 2927),\n",
       " ('second', 2920),\n",
       " ('himself', 2920),\n",
       " ('went', 2906),\n",
       " (\"couldn't\", 2899),\n",
       " ('playing', 2891),\n",
       " ('along', 2875),\n",
       " ('(and', 2861),\n",
       " ('full', 2856),\n",
       " ('become', 2848),\n",
       " ('entire', 2824),\n",
       " ('start', 2821),\n",
       " ('all,', 2819),\n",
       " ('supposed', 2807),\n",
       " ('early', 2802),\n",
       " ('liked', 2800),\n",
       " ('screen', 2799),\n",
       " ('However,', 2794),\n",
       " ('let', 2786),\n",
       " ('together', 2786),\n",
       " ('THE', 2781),\n",
       " ('small', 2779),\n",
       " ('2', 2769),\n",
       " ('felt', 2766),\n",
       " ('absolutely', 2762),\n",
       " ('doing', 2761),\n",
       " ('remember', 2741),\n",
       " ('book', 2737),\n",
       " ('short', 2736),\n",
       " ('definitely', 2704),\n",
       " ('Hollywood', 2700),\n",
       " ('sort', 2697),\n",
       " ('often', 2693),\n",
       " ('wife', 2687),\n",
       " ('certainly', 2685),\n",
       " ('next', 2683),\n",
       " ('is,', 2677),\n",
       " ('seemed', 2670),\n",
       " ('maybe', 2667),\n",
       " ('time,', 2666),\n",
       " ('Even', 2666),\n",
       " ('10', 2664),\n",
       " ('against', 2662),\n",
       " ('At', 2653),\n",
       " ('After', 2647),\n",
       " ('several', 2635),\n",
       " ('.', 2626),\n",
       " ('piece', 2625),\n",
       " ('human', 2623),\n",
       " ('becomes', 2608),\n",
       " ('else', 2607),\n",
       " ('later', 2602),\n",
       " ('His', 2600),\n",
       " ('totally', 2588),\n",
       " ('day', 2588),\n",
       " ('black', 2580),\n",
       " ('year', 2579),\n",
       " ('loved', 2573),\n",
       " ('camera', 2570),\n",
       " ('waste', 2569),\n",
       " ('production', 2567),\n",
       " ('kids', 2557),\n",
       " ('wanted', 2557),\n",
       " ('able', 2551),\n",
       " ('although', 2518),\n",
       " ('course', 2518),\n",
       " ('wonderful', 2503),\n",
       " ('instead', 2479),\n",
       " ('called', 2478),\n",
       " ('\\x96', 2473),\n",
       " ('them.', 2472),\n",
       " ('men', 2470),\n",
       " ('performances', 2457),\n",
       " ('that,', 2448),\n",
       " ('To', 2419),\n",
       " ('classic', 2415),\n",
       " ('friends', 2411),\n",
       " ('hope', 2409),\n",
       " ('person', 2400),\n",
       " ('line', 2390),\n",
       " ('wants', 2389),\n",
       " ('top', 2385),\n",
       " ('gave', 2377),\n",
       " ('women', 2374),\n",
       " ('home', 2371),\n",
       " ('tries', 2360),\n",
       " ('mind', 2358),\n",
       " ('video', 2353),\n",
       " ('based', 2346),\n",
       " ('name', 2341),\n",
       " ('live', 2333),\n",
       " (\"I'd\", 2319),\n",
       " ('turn', 2317),\n",
       " ('final', 2316),\n",
       " ('already', 2316),\n",
       " ('one.', 2309),\n",
       " ('stupid', 2307),\n",
       " (\"won't\", 2306),\n",
       " ('story,', 2299),\n",
       " ('enjoyed', 2296),\n",
       " ('low', 2291),\n",
       " ('lead', 2285),\n",
       " ('perfect', 2281),\n",
       " ('under', 2257),\n",
       " ('budget', 2253),\n",
       " ('school', 2253),\n",
       " ('care', 2244),\n",
       " ('sound', 2244),\n",
       " ('sex', 2243),\n",
       " ('this.', 2233),\n",
       " ('him.', 2223),\n",
       " ('this,', 2218),\n",
       " ('father', 2215),\n",
       " ('moments', 2213),\n",
       " ('(the', 2212),\n",
       " ('turns', 2209),\n",
       " ('mean', 2207),\n",
       " ('took', 2201),\n",
       " ('lines', 2187),\n",
       " ('starts', 2184),\n",
       " ('problem', 2179),\n",
       " (\"you'll\", 2178),\n",
       " ('While', 2173),\n",
       " ('Of', 2169),\n",
       " ('written', 2165),\n",
       " ('guess', 2156),\n",
       " ('finally', 2155),\n",
       " ('well.', 2151),\n",
       " ('death', 2149),\n",
       " ('either', 2145),\n",
       " ('episode', 2134),\n",
       " ('face', 2134),\n",
       " ('New', 2131),\n",
       " ('favorite', 2124),\n",
       " ('lost', 2116),\n",
       " ('No', 2109),\n",
       " ('title', 2101),\n",
       " ('head', 2090),\n",
       " ('itself', 2089),\n",
       " ('me,', 2086),\n",
       " ('me.', 2083),\n",
       " ('Michael', 2078),\n",
       " ('behind', 2077),\n",
       " ('story.', 2069),\n",
       " ('Some', 2063),\n",
       " ('night', 2055),\n",
       " ('cannot', 2047),\n",
       " (\"they're\", 2044),\n",
       " ('extremely', 2033),\n",
       " ('lack', 2030),\n",
       " ('boring', 2027),\n",
       " ('dialogue', 2025),\n",
       " ('friend', 2018),\n",
       " ('looked', 2017),\n",
       " ('all.', 2015),\n",
       " ('beginning', 2014),\n",
       " ('terrible', 2014),\n",
       " ('guys', 2012),\n",
       " (\"she's\", 2003),\n",
       " ('heard', 2001),\n",
       " ('good.', 1998),\n",
       " ('kill', 1991),\n",
       " ('fine', 1979),\n",
       " ('laugh', 1978),\n",
       " ('style', 1961),\n",
       " ('How', 1961),\n",
       " ('stars', 1957),\n",
       " (\"wouldn't\", 1950),\n",
       " ('expect', 1950),\n",
       " ('group', 1948),\n",
       " ('well,', 1945),\n",
       " ('/>In', 1944),\n",
       " ('Mr.', 1943),\n",
       " ('war', 1941),\n",
       " ('quality', 1939),\n",
       " ('decent', 1938),\n",
       " (\"film's\", 1936),\n",
       " (\"There's\", 1935),\n",
       " ('perhaps', 1928),\n",
       " ('life.', 1927),\n",
       " ('attempt', 1927),\n",
       " ('good,', 1924),\n",
       " ('others', 1921),\n",
       " ('With', 1918),\n",
       " ('works', 1916),\n",
       " ('feeling', 1909),\n",
       " ('taken', 1905),\n",
       " ('/>It', 1901),\n",
       " ('wrong', 1900),\n",
       " ('late', 1884),\n",
       " ('Then', 1880),\n",
       " ('lives', 1879),\n",
       " ('star', 1876),\n",
       " ('entertaining', 1872),\n",
       " ('run', 1870),\n",
       " ('house', 1868),\n",
       " ('mother', 1868),\n",
       " ('case', 1867),\n",
       " ('3', 1863),\n",
       " ('complete', 1862),\n",
       " ('Why', 1850),\n",
       " ('fans', 1848),\n",
       " ('particularly', 1847),\n",
       " ('Just', 1847),\n",
       " ('course,', 1842),\n",
       " ('throughout', 1840),\n",
       " ('movies,', 1837),\n",
       " ('told', 1835),\n",
       " ('across', 1833),\n",
       " ('highly', 1831),\n",
       " ('leave', 1830),\n",
       " ('obviously', 1830),\n",
       " ('type', 1829),\n",
       " ('/>If', 1829),\n",
       " ('shown', 1825),\n",
       " ('says', 1825),\n",
       " ('directed', 1819),\n",
       " ('movies.', 1816),\n",
       " ('opening', 1812),\n",
       " ('exactly', 1810),\n",
       " ('viewer', 1807),\n",
       " ('writing', 1805),\n",
       " ('fight', 1802),\n",
       " ('wonder', 1802),\n",
       " ('whose', 1800),\n",
       " ('save', 1796),\n",
       " ('thinking', 1794),\n",
       " ('films,', 1783),\n",
       " ('awful', 1782),\n",
       " ('however,', 1778),\n",
       " ('known', 1768),\n",
       " ('finds', 1767),\n",
       " ('turned', 1765),\n",
       " ('acting,', 1764),\n",
       " ('boy', 1763),\n",
       " ('car', 1763),\n",
       " ('coming', 1762),\n",
       " ('parts', 1754),\n",
       " ('worse', 1748),\n",
       " ('picture', 1746),\n",
       " ('killed', 1746),\n",
       " ('somewhat', 1737),\n",
       " ('close', 1737),\n",
       " ('dead', 1724),\n",
       " ('game', 1719),\n",
       " ('past', 1719),\n",
       " ('stop', 1719),\n",
       " (',', 1715),\n",
       " ('wish', 1713),\n",
       " ('amazing', 1713),\n",
       " ('knew', 1711),\n",
       " ('despite', 1710),\n",
       " ('Robert', 1707),\n",
       " ('myself', 1706),\n",
       " ('taking', 1705),\n",
       " ('matter', 1703),\n",
       " ('happens', 1703),\n",
       " ('huge', 1702),\n",
       " ('obvious', 1702),\n",
       " ('act', 1701),\n",
       " ('local', 1696),\n",
       " ('number', 1695),\n",
       " ('David', 1695),\n",
       " ('James', 1690),\n",
       " ('sometimes', 1687),\n",
       " ('side', 1683),\n",
       " ('strong', 1681),\n",
       " ('it.<br', 1680),\n",
       " ('except', 1670),\n",
       " ('usually', 1669),\n",
       " ('female', 1669),\n",
       " ('tells', 1669),\n",
       " ('evil', 1668),\n",
       " ('running', 1667),\n",
       " ('soon', 1667),\n",
       " ('started', 1666),\n",
       " ('hour', 1665),\n",
       " ('children', 1660),\n",
       " ('characters,', 1655),\n",
       " ('humor', 1655),\n",
       " ('direction', 1651),\n",
       " ('including', 1649),\n",
       " ('white', 1646),\n",
       " ('that.', 1644),\n",
       " ('dark', 1644),\n",
       " ('brilliant', 1641),\n",
       " ('serious', 1640),\n",
       " ('fact,', 1631),\n",
       " ('single', 1630),\n",
       " ('bad.', 1629),\n",
       " ('involved', 1627),\n",
       " ('call', 1624),\n",
       " ('way,', 1620),\n",
       " ('major', 1619),\n",
       " (\"Don't\", 1617),\n",
       " (\"aren't\", 1615),\n",
       " ('out.', 1612),\n",
       " ('killer', 1612),\n",
       " ('saying', 1610),\n",
       " ('horrible', 1606),\n",
       " ('due', 1602),\n",
       " ('Well,', 1602),\n",
       " ('hit', 1600),\n",
       " ('order', 1599),\n",
       " ('/>There', 1599),\n",
       " ('British', 1585),\n",
       " ('end,', 1584),\n",
       " ('seen.', 1582),\n",
       " ('relationship', 1582),\n",
       " ('living', 1580),\n",
       " ('giving', 1572),\n",
       " ('themselves', 1572),\n",
       " ('girls', 1571),\n",
       " ('mostly', 1568),\n",
       " ('voice', 1566),\n",
       " ('here.', 1564),\n",
       " ('son', 1564),\n",
       " ('drama', 1562),\n",
       " (\"I'll\", 1559),\n",
       " ('bring', 1555),\n",
       " ('chance', 1553),\n",
       " ('town', 1550),\n",
       " ('important', 1550),\n",
       " ('bad,', 1549),\n",
       " ('beyond', 1539),\n",
       " ('police', 1534),\n",
       " ('and,', 1528),\n",
       " ('talking', 1524),\n",
       " (\"haven't\", 1523),\n",
       " ('ends', 1523),\n",
       " ('released', 1523),\n",
       " ('appears', 1520),\n",
       " ('clearly', 1520),\n",
       " ('falls', 1516),\n",
       " ('knows', 1515),\n",
       " ('actress', 1513),\n",
       " ('one,', 1513),\n",
       " ('again.', 1512),\n",
       " ('upon', 1507),\n",
       " ('English', 1506),\n",
       " ('certain', 1503),\n",
       " ('end.', 1502),\n",
       " ('him,', 1502),\n",
       " ('example', 1501),\n",
       " ('stories', 1500),\n",
       " ('cut', 1499),\n",
       " ('supporting', 1494),\n",
       " ('stuff', 1494),\n",
       " ('moment', 1493),\n",
       " ('cinema', 1492),\n",
       " ('is.', 1492),\n",
       " ('On', 1491),\n",
       " ('change', 1490),\n",
       " ('similar', 1485),\n",
       " ('eyes', 1484),\n",
       " ('kept', 1483),\n",
       " ('needs', 1483),\n",
       " ('mention', 1481),\n",
       " ('simple', 1477),\n",
       " ('kid', 1475),\n",
       " ('tried', 1474),\n",
       " ('films.', 1472),\n",
       " ('showing', 1471),\n",
       " ('score', 1465),\n",
       " ('named', 1464),\n",
       " ('/>But', 1463),\n",
       " ('Although', 1463),\n",
       " ('again,', 1462),\n",
       " ('feels', 1459),\n",
       " ('modern', 1459),\n",
       " ('easily', 1459),\n",
       " ('musical', 1455),\n",
       " ('happened', 1451),\n",
       " ('actual', 1449),\n",
       " ('movie.<br', 1449),\n",
       " ('way.', 1449),\n",
       " ('her.', 1435),\n",
       " ('bunch', 1433),\n",
       " ('history', 1433),\n",
       " (\"That's\", 1432),\n",
       " ('brought', 1431),\n",
       " ('here,', 1431),\n",
       " ('child', 1431),\n",
       " ('near', 1429),\n",
       " ('shots', 1427),\n",
       " ('interest', 1424),\n",
       " ('plot,', 1424),\n",
       " ('nearly', 1420),\n",
       " ('heart', 1418),\n",
       " ('using', 1407),\n",
       " ('/>', 1407),\n",
       " ('comic', 1405),\n",
       " ('fall', 1403),\n",
       " ('/>A', 1403),\n",
       " ('whether', 1401),\n",
       " ('among', 1398),\n",
       " ('within', 1397),\n",
       " ('typical', 1391),\n",
       " ('film.<br', 1390),\n",
       " ('slow', 1389),\n",
       " ('usual', 1386),\n",
       " ('life,', 1383),\n",
       " ('George', 1380),\n",
       " ('daughter', 1377),\n",
       " ('song', 1376),\n",
       " ('romantic', 1376),\n",
       " ('Jack', 1376),\n",
       " ('art', 1376),\n",
       " ('working', 1373),\n",
       " ('hours', 1372),\n",
       " ('four', 1367),\n",
       " ('yourself', 1363),\n",
       " ('hate', 1363),\n",
       " ('days', 1362),\n",
       " ('greatest', 1361),\n",
       " ('cheap', 1360),\n",
       " ('(I', 1357),\n",
       " ('Maybe', 1357),\n",
       " ('jokes', 1352),\n",
       " ('decided', 1351),\n",
       " ('strange', 1351),\n",
       " ('happen', 1351),\n",
       " ('/>As', 1348),\n",
       " ('surprised', 1348),\n",
       " ('on.', 1348),\n",
       " ('Now', 1346),\n",
       " ('sad', 1338),\n",
       " ('experience', 1335),\n",
       " ('From', 1335),\n",
       " ('sit', 1332),\n",
       " ('funny.', 1328),\n",
       " ('hear', 1326),\n",
       " ('buy', 1325),\n",
       " ('events', 1320),\n",
       " ('none', 1320),\n",
       " ('middle', 1318),\n",
       " ('lots', 1316),\n",
       " ('view', 1315),\n",
       " ('characters.', 1314),\n",
       " ('(as', 1314),\n",
       " ('basically', 1313),\n",
       " ('too.', 1311),\n",
       " ('body', 1310),\n",
       " ('murder', 1308),\n",
       " ('became', 1307),\n",
       " ('annoying', 1306),\n",
       " ('them,', 1303),\n",
       " ('French', 1302),\n",
       " ('flick', 1302),\n",
       " ('above', 1302),\n",
       " ('documentary', 1301),\n",
       " ('5', 1300),\n",
       " ('learn', 1300),\n",
       " ('happy', 1298),\n",
       " ('clear', 1298),\n",
       " ('attention', 1289),\n",
       " ('(which', 1288),\n",
       " ('funny,', 1287),\n",
       " ('silly', 1286),\n",
       " ('add', 1286),\n",
       " ('stay', 1285),\n",
       " ('famous', 1284),\n",
       " ('sets', 1283),\n",
       " ('word', 1282),\n",
       " ('/>And', 1281),\n",
       " ('talent', 1281),\n",
       " ('easy', 1278),\n",
       " ('sequence', 1274),\n",
       " ('five', 1274),\n",
       " ('Peter', 1273),\n",
       " ('talk', 1271),\n",
       " ('deal', 1269),\n",
       " ('cool', 1266),\n",
       " ('cinematography', 1265),\n",
       " ('Her', 1264),\n",
       " ('begins', 1263),\n",
       " ('leaves', 1263),\n",
       " (\"you've\", 1259),\n",
       " ('husband', 1254),\n",
       " ('difficult', 1254),\n",
       " ('keeps', 1252),\n",
       " ('ten', 1251),\n",
       " ('means', 1251),\n",
       " ('Its', 1245),\n",
       " ('emotional', 1245),\n",
       " ('genre', 1245),\n",
       " ('character,', 1244),\n",
       " ('problems', 1243),\n",
       " ('1', 1242),\n",
       " ('out,', 1242),\n",
       " ('previous', 1240),\n",
       " ('light', 1239),\n",
       " ('reality', 1235),\n",
       " ('elements', 1234),\n",
       " ('meets', 1234),\n",
       " (\"/>It's\", 1231),\n",
       " ('move', 1228),\n",
       " ('killing', 1225),\n",
       " ('(or', 1221),\n",
       " ('filmed', 1219),\n",
       " ('Richard', 1218),\n",
       " ('episodes', 1218),\n",
       " ('doubt', 1217),\n",
       " ('violence', 1215),\n",
       " ('ones', 1215),\n",
       " ('Is', 1214),\n",
       " ('These', 1212),\n",
       " ('Most', 1212),\n",
       " ('sexual', 1211),\n",
       " ('television', 1208),\n",
       " ('apparently', 1206),\n",
       " ('realize', 1205),\n",
       " ('songs', 1205),\n",
       " ('An', 1204),\n",
       " ('write', 1198),\n",
       " ('4', 1198),\n",
       " ('theme', 1196),\n",
       " ('moving', 1196),\n",
       " ('comments', 1195),\n",
       " ('poorly', 1195),\n",
       " ('ridiculous', 1194),\n",
       " ('on,', 1194),\n",
       " ('subject', 1193),\n",
       " ('NOT', 1193),\n",
       " ('Like', 1192),\n",
       " ('roles', 1192),\n",
       " ('alone', 1191),\n",
       " ('brother', 1188),\n",
       " ('various', 1188),\n",
       " ('stand', 1187),\n",
       " (\"who's\", 1186),\n",
       " ('leads', 1186),\n",
       " ('figure', 1186),\n",
       " ('straight', 1185),\n",
       " ('hand', 1185),\n",
       " ('power', 1184),\n",
       " ('brings', 1184),\n",
       " ('towards', 1184),\n",
       " ('career', 1184),\n",
       " ('review', 1181),\n",
       " ('personal', 1180),\n",
       " ('possible', 1176),\n",
       " ('possibly', 1176),\n",
       " ('hilarious', 1175),\n",
       " ('incredibly', 1173),\n",
       " ('overall', 1170),\n",
       " ('blood', 1169),\n",
       " ('enjoyable', 1168),\n",
       " ('age', 1165),\n",
       " ('forced', 1164),\n",
       " ('team', 1164),\n",
       " ('whom', 1161),\n",
       " ('feature', 1160),\n",
       " ('room', 1159),\n",
       " ('needed', 1158),\n",
       " ('show.', 1157),\n",
       " ('novel', 1154),\n",
       " ('fairly', 1154),\n",
       " ('reading', 1153),\n",
       " ('rent', 1152),\n",
       " ('hero', 1151),\n",
       " ('say,', 1150),\n",
       " ('watch.', 1149),\n",
       " ('hell', 1145),\n",
       " ('level', 1145),\n",
       " ('message', 1142),\n",
       " ('Paul', 1141),\n",
       " ('scenes,', 1141),\n",
       " ('dialog', 1139),\n",
       " ('manages', 1135),\n",
       " ('nor', 1135),\n",
       " ('gore', 1133),\n",
       " ('interested', 1132),\n",
       " ('First', 1131),\n",
       " ('Tom', 1131),\n",
       " ('country', 1130),\n",
       " ('better.', 1129),\n",
       " ('somehow', 1129),\n",
       " ('spent', 1125),\n",
       " ('there.', 1124),\n",
       " ('reviews', 1123),\n",
       " ('work.', 1122),\n",
       " ('leading', 1122),\n",
       " ('scene,', 1120),\n",
       " ('Also', 1120),\n",
       " ('Dr.', 1117),\n",
       " ('meant', 1111),\n",
       " ('effort', 1111),\n",
       " ('begin', 1110),\n",
       " ('Japanese', 1110),\n",
       " ('though,', 1106),\n",
       " ('you.', 1106),\n",
       " ('particular', 1105),\n",
       " ('up.', 1103),\n",
       " ('form', 1103),\n",
       " ('soundtrack', 1102),\n",
       " ('features', 1102),\n",
       " ('appear', 1101),\n",
       " ('words', 1101),\n",
       " ('total', 1098),\n",
       " ('male', 1098),\n",
       " ('gone', 1097),\n",
       " ('eventually', 1096),\n",
       " ('imagine', 1096),\n",
       " ('create', 1094),\n",
       " ('...', 1091),\n",
       " ('writer', 1091),\n",
       " ('attempts', 1090),\n",
       " ('meet', 1086),\n",
       " ('20', 1082),\n",
       " ('worked', 1081),\n",
       " ('open', 1079),\n",
       " ('Also,', 1075),\n",
       " ('points', 1074),\n",
       " ('expecting', 1074),\n",
       " ('plenty', 1073),\n",
       " ('premise', 1073),\n",
       " ('political', 1072),\n",
       " ('follow', 1070),\n",
       " (\"He's\", 1070),\n",
       " ('up,', 1065),\n",
       " ('pay', 1064),\n",
       " ('crap', 1063),\n",
       " ('forget', 1062),\n",
       " ('herself', 1061),\n",
       " ('viewers', 1058),\n",
       " ('older', 1054),\n",
       " ('minute', 1054),\n",
       " ('average', 1054),\n",
       " ('tale', 1053),\n",
       " ('expected', 1049),\n",
       " ...]"
      ]
     },
     "execution_count": 13,
     "metadata": {},
     "output_type": "execute_result"
    }
   ],
   "source": [
    "#plotting words except stop words \n",
    "from collections import  Counter    \n",
    "counter=Counter(corpus)\n",
    "most=counter.most_common()\n",
    "most"
   ]
  },
  {
   "cell_type": "code",
   "execution_count": 14,
   "id": "local-friday",
   "metadata": {},
   "outputs": [
    {
     "data": {
      "text/plain": [
       "<AxesSubplot:>"
      ]
     },
     "execution_count": 14,
     "metadata": {},
     "output_type": "execute_result"
    },
    {
     "data": {
      "image/png": "[encoded data removed]",
      "text/plain": [
       "<Figure size 432x288 with 1 Axes>"
      ]
     },
     "metadata": {
      "needs_background": "light"
     },
     "output_type": "display_data"
    }
   ],
   "source": [
    "x, y= [], []\n",
    "for word,count in most[:40]:\n",
    "    if (word not in stop_words):\n",
    "        x.append(word)\n",
    "        y.append(count)\n",
    "        \n",
    "sns.barplot(x=y,y=x) "
   ]
  },
  {
   "cell_type": "raw",
   "id": "brown-fifteen",
   "metadata": {},
   "source": [
    "DATA PREPROCESSING"
   ]
  },
  {
   "cell_type": "code",
   "execution_count": 9,
   "id": "addressed-support",
   "metadata": {},
   "outputs": [],
   "source": [
    "ps =PorterStemmer()\n",
    "stop_words = set(stopwords.words('english'))          \n",
    "def process_text(text):\n",
    "    text = text.lower()                                        #converting data into lower case\n",
    "    text = re.sub(r'[^\\x61-\\x7F]+',' ', text)                  #removing numbers and other unwanted characters \n",
    "    text = re.sub('@[^\\s]+', ' y', text)\n",
    "    text = word_tokenize(text)                                 #tokenizing text\n",
    "    text = [ps.stem(w) for w in text if w not in stop_words]   #removing stop words  \n",
    "    return text"
   ]
  },
  {
   "cell_type": "code",
   "execution_count": 10,
   "id": "cognitive-parish",
   "metadata": {},
   "outputs": [],
   "source": [
    "df['review'] = df['review'].apply(process_text)       "
   ]
  },
  {
   "cell_type": "code",
   "execution_count": 18,
   "id": "ideal-crest",
   "metadata": {},
   "outputs": [
    {
     "data": {
      "text/html": [
       "<div>\n",
       "<style scoped>\n",
       "    .dataframe tbody tr th:only-of-type {\n",
       "        vertical-align: middle;\n",
       "    }\n",
       "\n",
       "    .dataframe tbody tr th {\n",
       "        vertical-align: top;\n",
       "    }\n",
       "\n",
       "    .dataframe thead th {\n",
       "        text-align: right;\n",
       "    }\n",
       "</style>\n",
       "<table border=\"1\" class=\"dataframe\">\n",
       "  <thead>\n",
       "    <tr style=\"text-align: right;\">\n",
       "      <th></th>\n",
       "      <th>review</th>\n",
       "      <th>sentiment</th>\n",
       "    </tr>\n",
       "  </thead>\n",
       "  <tbody>\n",
       "    <tr>\n",
       "      <th>37765</th>\n",
       "      <td>[earli, career, abe, lincoln, beauti, present,...</td>\n",
       "      <td>positive</td>\n",
       "    </tr>\n",
       "    <tr>\n",
       "      <th>16772</th>\n",
       "      <td>[final, seen, real, reason, peter, boyl, becam...</td>\n",
       "      <td>positive</td>\n",
       "    </tr>\n",
       "    <tr>\n",
       "      <th>33866</th>\n",
       "      <td>[minut, start, watch, realis, watch, qualiti, ...</td>\n",
       "      <td>positive</td>\n",
       "    </tr>\n",
       "    <tr>\n",
       "      <th>16037</th>\n",
       "      <td>[turn, point, night, must, fall, robert, montg...</td>\n",
       "      <td>negative</td>\n",
       "    </tr>\n",
       "    <tr>\n",
       "      <th>49692</th>\n",
       "      <td>[woa, talk, aw, wast, time, wish, seen, use, c...</td>\n",
       "      <td>negative</td>\n",
       "    </tr>\n",
       "  </tbody>\n",
       "</table>\n",
       "</div>"
      ],
      "text/plain": [
       "                                                  review sentiment\n",
       "37765  [earli, career, abe, lincoln, beauti, present,...  positive\n",
       "16772  [final, seen, real, reason, peter, boyl, becam...  positive\n",
       "33866  [minut, start, watch, realis, watch, qualiti, ...  positive\n",
       "16037  [turn, point, night, must, fall, robert, montg...  negative\n",
       "49692  [woa, talk, aw, wast, time, wish, seen, use, c...  negative"
      ]
     },
     "execution_count": 18,
     "metadata": {},
     "output_type": "execute_result"
    }
   ],
   "source": [
    "df.sample(5)"
   ]
  },
  {
   "cell_type": "code",
   "execution_count": 12,
   "id": "capable-found",
   "metadata": {},
   "outputs": [],
   "source": [
    "#train test split\n",
    "x_train, x_test, y_train, y_test = train_test_split(np.array(df.head(25000).review),np.array(df.head(25000).sentiment), test_size=0.33,random_state=1)"
   ]
  },
  {
   "cell_type": "code",
   "execution_count": 16,
   "id": "recovered-marijuana",
   "metadata": {},
   "outputs": [
    {
     "data": {
      "text/plain": [
       "['film',\n",
       " 'nightmar',\n",
       " 'sensat',\n",
       " 'feel',\n",
       " 'wake',\n",
       " 'nightmar',\n",
       " 'got',\n",
       " 'finish',\n",
       " 'watch',\n",
       " 'movi',\n",
       " 'uff',\n",
       " 'ok',\n",
       " 'end',\n",
       " 'relief',\n",
       " 'felt',\n",
       " 'pain',\n",
       " 'watch',\n",
       " 'movi',\n",
       " 'bad',\n",
       " 'b',\n",
       " 'seri',\n",
       " 'low',\n",
       " 'cost',\n",
       " 'movi',\n",
       " 'sure',\n",
       " 'think',\n",
       " 'excus',\n",
       " 'bad',\n",
       " 'watch',\n",
       " 'brilliant',\n",
       " 'low',\n",
       " 'cost',\n",
       " 'movi',\n",
       " 'nice',\n",
       " 'plot',\n",
       " 'nice',\n",
       " 'product',\n",
       " 'nice',\n",
       " 'act',\n",
       " 'substanc',\n",
       " 'one',\n",
       " 'got',\n",
       " 'noth',\n",
       " 'plot',\n",
       " 'hilari',\n",
       " 'almost',\n",
       " 'seem',\n",
       " 'like',\n",
       " 'american',\n",
       " 'guid',\n",
       " 'transform',\n",
       " 'ancient',\n",
       " 'chines',\n",
       " 'mytholog',\n",
       " 'ridicul',\n",
       " 'teenag',\n",
       " 'movi',\n",
       " 'kid',\n",
       " 'play',\n",
       " 'occult',\n",
       " 'know',\n",
       " 'chines',\n",
       " 'tale',\n",
       " 'present',\n",
       " 'movi',\n",
       " 'real',\n",
       " 'damag',\n",
       " 'even',\n",
       " 'wors',\n",
       " 'product',\n",
       " 'horribl',\n",
       " 'plain',\n",
       " 'zero',\n",
       " 'special',\n",
       " 'effect',\n",
       " 'suspens',\n",
       " 'suppos',\n",
       " 'tension',\n",
       " 'scene',\n",
       " 'complet',\n",
       " 'failur',\n",
       " 'act',\n",
       " 'better',\n",
       " 'dialog',\n",
       " 'oh',\n",
       " 'god',\n",
       " 'movi',\n",
       " 'sever',\n",
       " 'time',\n",
       " 'dialog',\n",
       " 'like',\n",
       " 'pass',\n",
       " 'later',\n",
       " 'ok',\n",
       " 'alright',\n",
       " 'ok',\n",
       " 'alright',\n",
       " 'ok',\n",
       " 'ok',\n",
       " 'alright',\n",
       " 'bye',\n",
       " 'sure',\n",
       " 'deserv',\n",
       " 'score',\n",
       " 'br',\n",
       " 'br',\n",
       " 'bad',\n",
       " 'true']"
      ]
     },
     "execution_count": 16,
     "metadata": {},
     "output_type": "execute_result"
    }
   ],
   "source": [
    "x_train[1222]"
   ]
  },
  {
   "cell_type": "markdown",
   "id": "biblical-palestine",
   "metadata": {},
   "source": [
    "LABELIZING"
   ]
  },
  {
   "cell_type": "code",
   "execution_count": 13,
   "id": "atlantic-commonwealth",
   "metadata": {},
   "outputs": [
    {
     "name": "stderr",
     "output_type": "stream",
     "text": [
      "0it [00:00, ?it/s]<ipython-input-13-c916994c2ee8>:5: DeprecationWarning: Call to deprecated `LabeledSentence` (Class will be removed in 4.0.0, use TaggedDocument instead).\n",
      "  labelized.append(LabeledSentence(v, [sentiment]))\n",
      "16750it [00:00, 42123.61it/s]\n",
      "8250it [00:00, 68861.84it/s]\n"
     ]
    }
   ],
   "source": [
    "def labelizesentiment(review, sentiment):\n",
    "    labelized = []\n",
    "    for i,v in tqdm(enumerate(review)):\n",
    "        sentiment = '%s_%s'%(sentiment,i)\n",
    "        labelized.append(LabeledSentence(v, [sentiment]))\n",
    "    return labelized\n",
    "\n",
    "x_train = labelizesentiment(x_train, 'TRAIN')\n",
    "x_test = labelizesentiment(x_test, 'TEST')"
   ]
  },
  {
   "cell_type": "code",
   "execution_count": 14,
   "id": "modern-toolbox",
   "metadata": {},
   "outputs": [
    {
     "name": "stderr",
     "output_type": "stream",
     "text": [
      "100%|██████████| 16750/16750 [00:00<00:00, 994614.45it/s]\n"
     ]
    }
   ],
   "source": [
    "n=1000000\n",
    "n_dim = 200\n",
    "sentiment_w2v = Word2Vec(size=n_dim, min_count=10)\n",
    "sentiment_w2v.build_vocab([x.words for x in tqdm(x_train)])"
   ]
  },
  {
   "cell_type": "code",
   "execution_count": 16,
   "id": "other-grace",
   "metadata": {},
   "outputs": [],
   "source": [
    "#saving the model using pickle\n",
    "filename_vec = 'sentiment_w2v_model.sav'\n",
    "pickle.dump(sentiment_w2v, open(filename_vec, 'wb'))"
   ]
  },
  {
   "cell_type": "code",
   "execution_count": 17,
   "id": "optimum-reference",
   "metadata": {},
   "outputs": [
    {
     "name": "stderr",
     "output_type": "stream",
     "text": [
      "100%|██████████| 16750/16750 [00:00<00:00, 1088931.48it/s]\n",
      "<ipython-input-17-ad926bb66a0b>:1: DeprecationWarning: Call to deprecated `iter` (Attribute will be removed in 4.0.0, use self.epochs instead).\n",
      "  sentiment_w2v.train([x.words for x in tqdm(x_train)],total_examples=sentiment_w2v.corpus_count, epochs=sentiment_w2v.iter)\n"
     ]
    },
    {
     "data": {
      "text/plain": [
       "(9002659, 10226380)"
      ]
     },
     "execution_count": 17,
     "metadata": {},
     "output_type": "execute_result"
    }
   ],
   "source": [
    "sentiment_w2v.train([x.words for x in tqdm(x_train)],total_examples=sentiment_w2v.corpus_count, epochs=sentiment_w2v.iter)"
   ]
  },
  {
   "cell_type": "code",
   "execution_count": 21,
   "id": "incomplete-psychiatry",
   "metadata": {},
   "outputs": [
    {
     "name": "stderr",
     "output_type": "stream",
     "text": [
      "<ipython-input-21-de4950dabded>:1: DeprecationWarning: Call to deprecated `__getitem__` (Method will be removed in 4.0.0, use self.wv.__getitem__() instead).\n",
      "  sentiment_w2v[\"box\"]\n"
     ]
    },
    {
     "data": {
      "text/plain": [
       "array([-3.56967002e-01,  4.31585401e-01, -3.26515660e-02,  4.47448909e-01,\n",
       "       -1.54812708e-01,  4.11911964e-01,  1.12534098e-01,  4.35627311e-01,\n",
       "       -2.37324730e-01,  1.01574802e+00,  5.76768816e-03,  1.75272804e-02,\n",
       "        1.08012661e-01, -3.59658629e-01, -5.94010465e-02,  9.20860171e-01,\n",
       "        7.48337805e-01, -4.21430409e-01,  4.76939708e-01, -7.28950053e-02,\n",
       "        1.01471521e-01, -4.76076573e-01, -3.59207064e-01, -5.42535633e-02,\n",
       "        3.14768791e-01,  2.33835876e-01,  5.39345853e-02, -8.57225657e-01,\n",
       "       -1.58916354e-01,  3.77943695e-01,  1.45754203e-01, -2.61916429e-01,\n",
       "       -1.52061597e-01, -4.89918113e-01,  4.00549591e-01,  8.66524577e-02,\n",
       "       -2.01447994e-01, -5.00041723e-01,  7.64450133e-01,  2.15574518e-01,\n",
       "       -3.04184020e-01, -2.94049352e-01,  2.46143878e-01,  6.83120251e-01,\n",
       "       -3.45033050e-01, -4.90229189e-01, -1.08886766e+00,  2.23247528e-01,\n",
       "        4.93539482e-01,  3.55113074e-02, -1.17611408e+00,  7.86654174e-01,\n",
       "       -4.14649874e-01, -5.93851030e-01,  1.11117744e+00, -8.02462399e-02,\n",
       "       -9.04028773e-01,  4.26500201e-01,  7.34328508e-01,  3.21319073e-01,\n",
       "       -2.72042125e-01, -5.28998315e-01, -9.07308698e-01,  2.77285635e-01,\n",
       "        1.84638128e-01,  1.49705529e-01, -1.99803233e-01, -2.90872157e-01,\n",
       "       -7.17843950e-01, -2.03995928e-01,  5.93978584e-01,  4.52962928e-02,\n",
       "        3.44842315e-01,  3.93052638e-01,  5.14923155e-01,  4.14495140e-01,\n",
       "       -1.40178397e-01, -4.15251940e-01, -1.08915724e-01,  8.14655781e-01,\n",
       "       -4.61110830e-01,  1.54718742e-01, -2.76014596e-01, -2.56173432e-01,\n",
       "       -2.00400725e-01, -2.22056657e-01, -1.12168528e-01,  3.57008100e-01,\n",
       "        3.43270302e-01,  2.13918522e-01,  4.18910198e-02, -1.18231511e+00,\n",
       "       -1.37673998e-02, -1.24681018e-01, -4.70378995e-01,  1.30636021e-01,\n",
       "        1.32515699e-01, -4.52214539e-01, -6.02295041e-01, -2.84298867e-01,\n",
       "       -2.89709777e-01, -1.12078391e-01,  2.05163404e-01, -8.03696454e-01,\n",
       "       -1.73881352e-01,  3.93135667e-01,  7.54543617e-02, -3.40709656e-01,\n",
       "       -3.87236714e-01,  8.15003514e-02, -9.32429917e-03,  6.55163407e-01,\n",
       "       -3.46623451e-01, -5.10298133e-01, -7.75129676e-01, -6.50274575e-01,\n",
       "        3.57764155e-01, -4.16507810e-01, -6.76511645e-01, -1.12212896e-01,\n",
       "       -6.02360785e-01, -9.85131320e-03,  1.09458160e+00, -8.11886787e-01,\n",
       "        5.72348237e-01,  6.08373284e-01,  1.77149624e-01,  2.53899872e-01,\n",
       "       -7.89398924e-02,  4.59736377e-01, -6.58775717e-02,  9.47041869e-01,\n",
       "       -3.17029774e-01,  4.09925848e-01, -1.38832405e-01,  6.32580578e-01,\n",
       "       -3.36834699e-01,  1.96913004e-01,  2.86438525e-01,  4.20379162e-01,\n",
       "        1.90804929e-01, -5.03238142e-01, -1.00761926e+00, -1.17420995e+00,\n",
       "        4.35314119e-01,  5.08132815e-01,  2.37615749e-01,  1.37292302e+00,\n",
       "        2.64845222e-01,  5.72676718e-01, -2.95150012e-01,  5.58329284e-01,\n",
       "        5.42377412e-01,  3.07337642e-01,  1.24387760e-02,  5.00815570e-01,\n",
       "       -3.82159561e-01,  5.48375010e-01,  3.60639989e-01,  4.95970219e-01,\n",
       "        5.32301247e-01, -2.52329618e-01,  2.55203933e-01,  5.23610413e-01,\n",
       "        5.29928982e-01, -1.30087897e-01, -5.40989935e-01,  2.34448954e-01,\n",
       "       -3.06205869e-01,  1.15037240e-01, -2.57338732e-01, -9.24638152e-01,\n",
       "       -2.07901165e-01, -7.16868341e-01, -6.82955921e-01, -3.64104241e-01,\n",
       "        4.66079980e-01, -5.29977260e-03, -3.70691836e-01, -1.52372748e-01,\n",
       "        8.43379498e-01,  3.65851782e-02,  4.89415079e-01,  3.32257360e-01,\n",
       "       -4.20474291e-01,  5.26968956e-01, -1.90411583e-02, -4.58783180e-01,\n",
       "        7.20629632e-01, -6.20948034e-04, -8.94356132e-01, -4.62521911e-02,\n",
       "       -9.77939814e-02, -1.15792938e-01, -2.59884208e-01, -3.35383773e-01,\n",
       "        2.07986161e-01,  2.92759925e-01,  3.33580434e-01, -4.34043348e-01],\n",
       "      dtype=float32)"
      ]
     },
     "execution_count": 21,
     "metadata": {},
     "output_type": "execute_result"
    }
   ],
   "source": [
    "sentiment_w2v[\"box\"]"
   ]
  },
  {
   "cell_type": "code",
   "execution_count": 22,
   "id": "metric-venue",
   "metadata": {},
   "outputs": [
    {
     "name": "stderr",
     "output_type": "stream",
     "text": [
      "<ipython-input-22-60a29655b48f>:1: DeprecationWarning: Call to deprecated `__getitem__` (Method will be removed in 4.0.0, use self.wv.__getitem__() instead).\n",
      "  sentiment_w2v[\"trash\"]\n"
     ]
    },
    {
     "data": {
      "text/plain": [
       "array([-2.22729757e-01,  1.55833602e-01, -5.64778447e-01,  3.04081589e-02,\n",
       "       -3.33833206e-03,  4.80443507e-01, -2.21901774e-01,  5.12891233e-01,\n",
       "       -4.18943018e-01,  4.99759108e-01, -4.55611080e-01,  5.47883689e-01,\n",
       "       -6.08198822e-01,  1.37461275e-01, -1.98791936e-01,  2.39593148e-01,\n",
       "        1.86403245e-01, -2.07061514e-01,  6.61632895e-01,  2.16565236e-01,\n",
       "       -1.97409049e-01, -1.88268498e-01, -1.55191198e-01,  3.56790304e-01,\n",
       "        4.53786939e-01,  1.78710803e-01, -1.71837270e-01, -5.36166668e-01,\n",
       "       -6.77317202e-01, -3.89139593e-01,  8.86073411e-02,  2.94563323e-01,\n",
       "       -6.25473186e-02, -4.51802552e-01, -6.69308100e-03, -7.97715902e-01,\n",
       "        6.53192848e-02, -3.12025070e-01,  2.20569551e-01,  9.24434811e-02,\n",
       "        5.63867241e-02,  1.36406824e-01, -9.43380371e-02, -9.00797248e-02,\n",
       "       -2.39574537e-01, -2.34960303e-01, -5.48789389e-02,  5.50867438e-01,\n",
       "        7.40919471e-01, -2.91447848e-01, -5.34189880e-01,  1.24388680e-01,\n",
       "        3.71796777e-04, -7.40766346e-01,  7.62553215e-01,  5.12933023e-02,\n",
       "       -5.64518154e-01, -4.66605239e-02,  6.84208989e-01,  2.33856842e-01,\n",
       "       -1.45099446e-01,  6.50563613e-02, -6.77887723e-02,  5.96035421e-01,\n",
       "        4.48698223e-01,  1.62953854e-01,  7.32310489e-02, -1.42096117e-01,\n",
       "       -4.26128685e-01,  2.85930157e-01,  3.94054204e-01, -7.99564481e-01,\n",
       "        2.02694744e-01,  7.09629297e-01,  2.12620534e-02,  3.47965986e-01,\n",
       "       -4.78048295e-01, -1.83688670e-01, -4.89215791e-01, -2.69047201e-01,\n",
       "       -5.37107110e-01, -4.83265340e-01, -3.44963670e-01,  2.88024336e-01,\n",
       "       -4.31599975e-01, -1.86878428e-01, -1.11728168e+00,  4.36937720e-01,\n",
       "       -2.50063211e-01, -1.25561049e-02, -5.32413006e-01, -5.65846145e-01,\n",
       "        8.32457021e-02, -8.95652696e-02, -1.73628986e-01,  9.02523175e-02,\n",
       "        7.43345469e-02, -2.72437751e-01, -3.54976356e-02, -4.33022529e-01,\n",
       "       -3.68815124e-01, -1.03425704e-01,  1.99396238e-01, -5.83852172e-01,\n",
       "        2.22819343e-01,  2.12960422e-01, -2.45976239e-01, -3.40080231e-01,\n",
       "        1.97117314e-01,  1.33649588e-01, -3.15078884e-01, -4.45480645e-02,\n",
       "       -8.54020417e-02,  2.85985112e-01, -8.73706698e-01,  4.80318181e-02,\n",
       "       -2.39921033e-01, -6.87726974e-01, -2.56670117e-01,  2.16148540e-01,\n",
       "        9.09602866e-02,  4.25337590e-02, -1.93952024e-01, -4.84258711e-01,\n",
       "        2.08552301e-01,  1.09350574e+00,  5.10868549e-01, -9.89157185e-02,\n",
       "        2.43988529e-01,  2.46845514e-01, -1.92531031e-02,  2.00723097e-01,\n",
       "        2.80204266e-01,  2.65569128e-02, -5.62690079e-01,  1.69879213e-01,\n",
       "       -3.91749322e-01,  4.19944733e-01, -1.64244786e-01,  2.55242348e-01,\n",
       "       -2.89949387e-01,  1.52510703e-01, -4.28709313e-02, -4.89264697e-01,\n",
       "        2.11212024e-01,  2.59052366e-01,  1.10876612e-01,  3.30010295e-01,\n",
       "       -2.80191272e-01,  1.41503766e-01, -2.41713017e-01, -3.02042782e-01,\n",
       "        1.32206276e-01,  1.09695151e-01, -2.01161243e-02, -2.48828232e-01,\n",
       "        2.18985781e-01,  3.25110108e-01,  1.16139509e-01,  2.34210536e-01,\n",
       "        1.43983483e-01, -8.69455561e-02,  3.33510667e-01,  7.80633017e-02,\n",
       "        3.56630117e-01,  3.02020431e-01, -4.52838153e-01, -2.18030483e-01,\n",
       "        1.22219315e-02,  1.90055631e-02,  1.19369164e-01, -3.92414480e-01,\n",
       "       -3.53344940e-02,  8.76058340e-02, -1.47404283e-01, -2.89211631e-01,\n",
       "        4.18539494e-01, -6.63941428e-02, -8.22996572e-02,  1.66938789e-02,\n",
       "        4.51276600e-01,  3.14809024e-01,  6.84549809e-02,  2.41824180e-01,\n",
       "       -6.40516579e-01,  1.76896244e-01,  4.21820968e-01, -6.65267467e-01,\n",
       "        7.23067671e-02, -7.40840584e-02, -3.74535359e-02, -8.75671029e-01,\n",
       "        3.62801515e-02, -6.05650097e-02,  3.04401182e-02,  2.12986395e-01,\n",
       "       -1.71386063e-01,  3.19927573e-01, -9.22563374e-02,  5.53675406e-02],\n",
       "      dtype=float32)"
      ]
     },
     "execution_count": 22,
     "metadata": {},
     "output_type": "execute_result"
    }
   ],
   "source": [
    "sentiment_w2v[\"trash\"]"
   ]
  },
  {
   "cell_type": "code",
   "execution_count": 18,
   "id": "suited-digest",
   "metadata": {},
   "outputs": [],
   "source": [
    "def buildWordVector(tokens, size):\n",
    "    vec = np.zeros(size).reshape((1, size))\n",
    "    count = 0.\n",
    "    for word in tokens:\n",
    "        try:\n",
    "            vec += sentiment_w2v[word].reshape((1, size)) \n",
    "            count += 1.\n",
    "        except KeyError: # handling the case where the token is not\n",
    "                         # in the corpus. useful for testing.\n",
    "            continue\n",
    "    if count != 0:\n",
    "        vec /= count\n",
    "    return vec"
   ]
  },
  {
   "cell_type": "code",
   "execution_count": 19,
   "id": "reliable-communist",
   "metadata": {},
   "outputs": [
    {
     "name": "stderr",
     "output_type": "stream",
     "text": [
      "0it [00:00, ?it/s]<ipython-input-18-3ea714a3f541>:6: DeprecationWarning: Call to deprecated `__getitem__` (Method will be removed in 4.0.0, use self.wv.__getitem__() instead).\n",
      "  vec += sentiment_w2v[word].reshape((1, size))\n",
      "16750it [00:10, 1523.58it/s]\n",
      "0it [00:00, ?it/s]<ipython-input-18-3ea714a3f541>:6: DeprecationWarning: Call to deprecated `__getitem__` (Method will be removed in 4.0.0, use self.wv.__getitem__() instead).\n",
      "  vec += sentiment_w2v[word].reshape((1, size))\n",
      "8250it [00:06, 1311.92it/s]\n"
     ]
    }
   ],
   "source": [
    "train_vecs_w2v = np.concatenate([buildWordVector(z, n_dim) for z in tqdm(map(lambda x: x.words, x_train))])\n",
    "train_vecs_w2v = scale(train_vecs_w2v)\n",
    "\n",
    "test_vecs_w2v = np.concatenate([buildWordVector(z, n_dim) for z in tqdm(map(lambda x: x.words, x_test))])\n",
    "test_vecs_w2v = scale(test_vecs_w2v)\n"
   ]
  },
  {
   "cell_type": "markdown",
   "id": "humanitarian-classification",
   "metadata": {},
   "source": [
    "TRAINING MODELS"
   ]
  },
  {
   "cell_type": "markdown",
   "id": "funded-correlation",
   "metadata": {},
   "source": [
    "Naive_bayes"
   ]
  },
  {
   "cell_type": "code",
   "execution_count": 20,
   "id": "concerned-injection",
   "metadata": {},
   "outputs": [],
   "source": [
    "from sklearn.naive_bayes import GaussianNB"
   ]
  },
  {
   "cell_type": "code",
   "execution_count": 23,
   "id": "universal-infrastructure",
   "metadata": {
    "scrolled": false
   },
   "outputs": [
    {
     "name": "stdout",
     "output_type": "stream",
     "text": [
      "76.04848484848485\n"
     ]
    }
   ],
   "source": [
    "gnb = GaussianNB()\n",
    "gnb_preds = gnb.fit(train_vecs_w2v, y_train).predict(test_vecs_w2v)\n",
    "print(accuracy_score(gnb_preds, y_test)*100)"
   ]
  },
  {
   "cell_type": "code",
   "execution_count": 24,
   "id": "beginning-genesis",
   "metadata": {
    "scrolled": true
   },
   "outputs": [
    {
     "data": {
      "text/plain": [
       "0.7604848484848485"
      ]
     },
     "execution_count": 24,
     "metadata": {},
     "output_type": "execute_result"
    }
   ],
   "source": [
    "f1_score(y_test, gnb_preds, average='micro')"
   ]
  },
  {
   "cell_type": "code",
   "execution_count": 25,
   "id": "adequate-lawsuit",
   "metadata": {},
   "outputs": [
    {
     "data": {
      "text/plain": [
       "0.7604848484848484"
      ]
     },
     "execution_count": 25,
     "metadata": {},
     "output_type": "execute_result"
    }
   ],
   "source": [
    "recall_score(y_test, gnb_preds, average='micro')"
   ]
  },
  {
   "cell_type": "markdown",
   "id": "massive-warren",
   "metadata": {},
   "source": [
    "SVM"
   ]
  },
  {
   "cell_type": "code",
   "execution_count": 26,
   "id": "polished-pioneer",
   "metadata": {
    "scrolled": true
   },
   "outputs": [
    {
     "name": "stdout",
     "output_type": "stream",
     "text": [
      "84.7030303030303\n"
     ]
    },
    {
     "name": "stderr",
     "output_type": "stream",
     "text": [
      "/home/ebinjosemathew/.local/lib/python3.8/site-packages/sklearn/svm/_base.py:985: ConvergenceWarning: Liblinear failed to converge, increase the number of iterations.\n",
      "  warnings.warn(\"Liblinear failed to converge, increase \"\n"
     ]
    }
   ],
   "source": [
    "from sklearn.svm import LinearSVC\n",
    "from sklearn.pipeline import make_pipeline\n",
    "from sklearn.preprocessing import StandardScaler\n",
    "\n",
    "clf = make_pipeline(StandardScaler(),LinearSVC(random_state=0, tol=1e-5))\n",
    "clf.fit(train_vecs_w2v, y_train)\n",
    "svm_preds = clf.predict(test_vecs_w2v)\n",
    "print(accuracy_score(svm_preds, y_test)*100)"
   ]
  },
  {
   "cell_type": "code",
   "execution_count": 27,
   "id": "announced-arthur",
   "metadata": {},
   "outputs": [
    {
     "data": {
      "text/plain": [
       "0.847030303030303"
      ]
     },
     "execution_count": 27,
     "metadata": {},
     "output_type": "execute_result"
    }
   ],
   "source": [
    "f1_score(y_test, svm_preds, average='micro')"
   ]
  },
  {
   "cell_type": "code",
   "execution_count": 28,
   "id": "prospective-cincinnati",
   "metadata": {},
   "outputs": [
    {
     "data": {
      "text/plain": [
       "0.847030303030303"
      ]
     },
     "execution_count": 28,
     "metadata": {},
     "output_type": "execute_result"
    }
   ],
   "source": [
    "recall_score(y_test, svm_preds, average='micro')"
   ]
  },
  {
   "cell_type": "markdown",
   "id": "vital-scout",
   "metadata": {},
   "source": [
    "DecisionTreeClassifier"
   ]
  },
  {
   "cell_type": "code",
   "execution_count": 29,
   "id": "preliminary-theorem",
   "metadata": {},
   "outputs": [
    {
     "data": {
      "text/plain": [
       "array([0.69791045, 0.72835821, 0.71044776, 0.71940299, 0.73134328,\n",
       "       0.71104478, 0.72955224, 0.70925373, 0.71820896, 0.71641791])"
      ]
     },
     "execution_count": 29,
     "metadata": {},
     "output_type": "execute_result"
    }
   ],
   "source": [
    "from sklearn.model_selection import cross_val_score\n",
    "from sklearn.tree import DecisionTreeClassifier\n",
    "\n",
    "clf = DecisionTreeClassifier(random_state=0)\n",
    "cross_val_score(clf,train_vecs_w2v, y_train, cv=10)"
   ]
  },
  {
   "cell_type": "code",
   "execution_count": 30,
   "id": "outstanding-pressure",
   "metadata": {},
   "outputs": [
    {
     "name": "stdout",
     "output_type": "stream",
     "text": [
      "75.46666666666667\n"
     ]
    }
   ],
   "source": [
    "dis = DecisionTreeClassifier(random_state=0,max_depth=6).fit(train_vecs_w2v, y_train)\n",
    "dis_preds = dis.predict(test_vecs_w2v)\n",
    "print(accuracy_score(dis_preds, y_test)*100)"
   ]
  },
  {
   "cell_type": "code",
   "execution_count": 31,
   "id": "amber-duration",
   "metadata": {
    "scrolled": true
   },
   "outputs": [
    {
     "data": {
      "text/plain": [
       "0.7546666666666666"
      ]
     },
     "execution_count": 31,
     "metadata": {},
     "output_type": "execute_result"
    }
   ],
   "source": [
    "f1_score(y_test, dis_preds, average='micro')"
   ]
  },
  {
   "cell_type": "code",
   "execution_count": 32,
   "id": "engaging-trader",
   "metadata": {},
   "outputs": [
    {
     "data": {
      "text/plain": [
       "0.7546666666666667"
      ]
     },
     "execution_count": 32,
     "metadata": {},
     "output_type": "execute_result"
    }
   ],
   "source": [
    "recall_score(y_test, dis_preds, average='micro')"
   ]
  },
  {
   "cell_type": "markdown",
   "id": "smaller-temperature",
   "metadata": {},
   "source": [
    "LogisticRegression"
   ]
  },
  {
   "cell_type": "code",
   "execution_count": 34,
   "id": "protective-investor",
   "metadata": {},
   "outputs": [
    {
     "name": "stdout",
     "output_type": "stream",
     "text": [
      "84.7151515151515\n"
     ]
    },
    {
     "name": "stderr",
     "output_type": "stream",
     "text": [
      "/home/ebinjosemathew/.local/lib/python3.8/site-packages/sklearn/linear_model/_logistic.py:763: ConvergenceWarning: lbfgs failed to converge (status=1):\n",
      "STOP: TOTAL NO. of ITERATIONS REACHED LIMIT.\n",
      "\n",
      "Increase the number of iterations (max_iter) or scale the data as shown in:\n",
      "    https://scikit-learn.org/stable/modules/preprocessing.html\n",
      "Please also refer to the documentation for alternative solver options:\n",
      "    https://scikit-learn.org/stable/modules/linear_model.html#logistic-regression\n",
      "  n_iter_i = _check_optimize_result(\n"
     ]
    }
   ],
   "source": [
    "from sklearn.linear_model import LogisticRegression\n",
    "clf_LR = LogisticRegression(random_state=0).fit(train_vecs_w2v, y_train)\n",
    "\n",
    "log_preds = clf_LR.predict(test_vecs_w2v)\n",
    "print(accuracy_score(log_preds, y_test)*100)"
   ]
  },
  {
   "cell_type": "code",
   "execution_count": 35,
   "id": "under-destiny",
   "metadata": {},
   "outputs": [
    {
     "data": {
      "text/plain": [
       "0.8471515151515151"
      ]
     },
     "execution_count": 35,
     "metadata": {},
     "output_type": "execute_result"
    }
   ],
   "source": [
    "f1_score(y_test, log_preds, average='micro')"
   ]
  },
  {
   "cell_type": "code",
   "execution_count": 36,
   "id": "wireless-longitude",
   "metadata": {},
   "outputs": [
    {
     "data": {
      "text/plain": [
       "0.8471515151515151"
      ]
     },
     "execution_count": 36,
     "metadata": {},
     "output_type": "execute_result"
    }
   ],
   "source": [
    "recall_score(y_test, log_preds, average='micro')"
   ]
  }
 ],
 "metadata": {
  "kernelspec": {
   "display_name": "Python 3",
   "language": "python",
   "name": "python3"
  },
  "language_info": {
   "codemirror_mode": {
    "name": "ipython",
    "version": 3
   },
   "file_extension": ".py",
   "mimetype": "text/x-python",
   "name": "python",
   "nbconvert_exporter": "python",
   "pygments_lexer": "ipython3",
   "version": "3.8.5"
  }
 },
 "nbformat": 4,
 "nbformat_minor": 5
}
